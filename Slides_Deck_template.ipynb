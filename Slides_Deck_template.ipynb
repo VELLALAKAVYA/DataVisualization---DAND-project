{
 "cells": [
  {
   "cell_type": "markdown",
   "metadata": {
    "slideshow": {
     "slide_type": "slide"
    }
   },
   "source": [
    "# Ford GoBike System Data: Presentation\n",
    "## by Vallela Kavya"
   ]
  },
  {
   "cell_type": "markdown",
   "metadata": {
    "slideshow": {
     "slide_type": "slide"
    }
   },
   "source": [
    "## Investigation Overview\n",
    "\n",
    "The project is mainly written in Python 3.6. I used pandas and numpy for data analysis, and used seaborn, and matplotlib for data visualization.\n",
    "In addition, Some plots are plotted in R with Ipython, such as Bokeh and gglot2.\n",
    "\n",
    "## Dataset Overview\n",
    "\n",
    "This data set includes information about individual rides made in a bike-sharing system covering the greater San Francisco Bay area.\n",
    "<br>\n",
    "Note that this dataset will require some data wrangling in order to make it tidy for analysis. \n",
    "<bR>\n",
    "There are multiple cities covered by the linked system, and multiple data files will need to be joined together if a full year’s coverage is desired.\n",
    "<br>\n",
    "In addition, there was another announcement on April 24th 2018 that Ford GoBike would do a pilot launch of their electric bike service. So, I would like to find who might be especially interested of the news."
   ]
  },
  {
   "cell_type": "code",
   "execution_count": 1,
   "metadata": {
    "slideshow": {
     "slide_type": "skip"
    }
   },
   "outputs": [],
   "source": [
    "# import all packages and set plots to be embedded inline\n",
    "%matplotlib inline\n",
    "\n",
    "import pandas as pd\n",
    "import numpy as np\n",
    "import matplotlib.pyplot as plt\n",
    "import matplotlib.ticker as ticker\n",
    "import seaborn as sns\n",
    "import datetime\n",
    "import math\n",
    "import calendar\n",
    "\n",
    "#from bokeh.plotting import figure, output_notebook, show # bokeh plotting library\n",
    "#We'll show the plots in the cells of this notebook\n",
    "#output_notebook()\n",
    "\n",
    "from bokeh.io import output_file, show, output_notebook\n",
    "from bokeh.models import ColumnDataSource, GMapOptions\n",
    "from bokeh.plotting import gmap, figure\n",
    "\n",
    "\n",
    "sns.set(color_codes=True)\n",
    "sns.set(rc={'figure.figsize':(12.5,9.7)})\n",
    "\n",
    "# suppress warnings from final output\n",
    "import warnings\n",
    "warnings.simplefilter(\"ignore\")"
   ]
  },
  {
   "cell_type": "code",
   "execution_count": 2,
   "metadata": {
    "slideshow": {
     "slide_type": "skip"
    }
   },
   "outputs": [
    {
     "name": "stdout",
     "output_type": "stream",
     "text": [
      "Wall time: 0 ns\n"
     ]
    }
   ],
   "source": [
    "# load in the dataset into a pandas dataframe\n",
    "%time\n",
    "\n",
    "df = pd.read_csv('./2017-fordgobike-tripdata.csv')\n",
    "df1 = pd.read_csv('201801-fordgobike-tripdata.csv')\n",
    "df2 = pd.read_csv('201802-fordgobike-tripdata.csv')\n",
    "df3 = pd.read_csv('201803-fordgobike-tripdata.csv')\n",
    "df4 = pd.read_csv('201804-fordgobike-tripdata.csv')"
   ]
  },
  {
   "cell_type": "markdown",
   "metadata": {
    "slideshow": {
     "slide_type": "slide"
    }
   },
   "source": [
    "## Visualization 1: The age distribution of Ford goBike riders"
   ]
  },
  {
   "cell_type": "code",
   "execution_count": null,
   "metadata": {
    "slideshow": {
     "slide_type": "skip"
    }
   },
   "outputs": [],
   "source": [
    "plt.figure(figsize=(10,6))\n",
    "base_color = sns.color_palette()[0]\n",
    "ax1 = sns.boxplot(data = df, x = 'member_age', color = base_color)\n",
    "#sns.boxplot(x='member_age', data = df, palette='Blues', orient='h')\n",
    "plt.title(\"The age distribution of Ford goBike riders\", fontsize=20, y=1.03)\n",
    "plt.xlabel(\"Age[bike riders]\", fontsize=18, labelpad=10)\n",
    "plt.grid(False)\n",
    "plt.xlim(0,120)\n",
    "plt.savefig('image01.png');"
   ]
  },
  {
   "cell_type": "markdown",
   "metadata": {
    "slideshow": {
     "slide_type": "subslide"
    }
   },
   "source": [
    "<img src='image01.png'>"
   ]
  },
  {
   "cell_type": "markdown",
   "metadata": {
    "slideshow": {
     "slide_type": "fragment"
    }
   },
   "source": [
    "The plot shows that, the age distribution of bike riders renders between 20 to 60.<br>\n",
    "The IQR of riders is between 25 to 42 like that. The outliers lies after 60.<br>\n",
    "The minimum age of bike riders is 19(Q1), where as maximum age of bike riders is 60(Q3).\n"
   ]
  },
  {
   "cell_type": "markdown",
   "metadata": {
    "slideshow": {
     "slide_type": "slide"
    }
   },
   "source": [
    "## Visualization 2: .How does subscibers and customers behave differently?\n",
    "\n",
    "Subscribers' rides take place around both morning commute time and evening commute time. On the contrary, customers' rides take place the most during weekend, which represents the main purpose for the user type is different. \n",
    "<br>The former is for convenience around commute time and the latter is more likely for leisure."
   ]
  },
  {
   "cell_type": "code",
   "execution_count": null,
   "metadata": {
    "slideshow": {
     "slide_type": "skip"
    }
   },
   "outputs": [],
   "source": [
    "plt.figure(figsize=(15,10))\n",
    "plt.subplot(1,2,1)\n",
    "plt.suptitle('Most frequently used of age 20-40 group people', fontsize=22)\n",
    "#bins_x = np.arange(1,1, 1)\n",
    "#bins_y = np.arange(1,1, 1)\n",
    "#plt.hist2d(data=subscriber_hour_df_pivoted, x='Weekday', y='Hour[day]', bins=[bins_x,bins_y], cmap='viridis_r', cmin=0.5)\n",
    "sns.heatmap(subscriber_hour_df_pivoted, fmt='d', annot=True, cmap='YlGnBu_r', annot_kws={\"size\": 12})\n",
    "plt.title(\"'Rank of subscribers' most frequently used(time)\", y=1.015)\n",
    "plt.xlabel('Weekday', labelpad=16)\n",
    "#plt.ylabel('Hour [day]', labelpad=16)\n",
    "plt.yticks(rotation=360)\n",
    "\n",
    "plt.subplot(1,2,2)\n",
    "sns.heatmap(customer_hour_df_pivoted, fmt='d', annot=True, cmap='YlGnBu_r', annot_kws={\"size\": 12}, cbar_kws={'label': 'Rank of frequently used timing'})\n",
    "plt.title(\"'Rank of customers' most frequently used(time)\", y=1.015)\n",
    "plt.xlabel('Weekday', labelpad=16)\n",
    "#plt.ylabel(' ')\n",
    "plt.yticks(rotation=360)\n",
    "plt.savefig('image11.png');"
   ]
  },
  {
   "cell_type": "markdown",
   "metadata": {
    "slideshow": {
     "slide_type": "subslide"
    }
   },
   "source": [
    "<img src='image11.png'>"
   ]
  },
  {
   "cell_type": "markdown",
   "metadata": {
    "slideshow": {
     "slide_type": "fragment"
    }
   },
   "source": [
    "Subscribers' most frequently used timing is around 7~9am and 4~6pm, which is a commute time.<br> \n",
    "In the contrary, Customers' most frequently used timing are weekend 12pm~4pm and weekday 5pm~6pm.<br> \n",
    "Customers tend to use this service during weekend for leisure and after work."
   ]
  },
  {
   "cell_type": "markdown",
   "metadata": {
    "slideshow": {
     "slide_type": "slide"
    }
   },
   "source": [
    "## Visualization 3: Which age group favors e-bike more?\n",
    "\n",
    "Suprisingly, 10 to 20 years user group seems to show the most interest in the e-bike, seeing that the percentage of e-bike rides of all the rides by 10 to 20 years old users is around 10%.<br>\n",
    "Also, the younger a rider is, the more likely the rider would be fond of electric bike rides."
   ]
  },
  {
   "cell_type": "code",
   "execution_count": null,
   "metadata": {
    "slideshow": {
     "slide_type": "skip"
    }
   },
   "outputs": [],
   "source": [
    "plt.figure(figsize=(12,6))\n",
    "my_palette = {\"electric\":\"lightblue\", 'non-electric':'deepskyblue'}\n",
    "base_color = sns.color_palette()[0]\n",
    "ax = sns.boxplot(x='start_time_date', y='count', hue='bike_type', linewidth=1.5, palette=my_palette, \n",
    "                 data=electric_bike_verification_df)\n",
    "ax.grid(False)\n",
    "plt.title('Avg count of Electric and Non-Electric bike rides from 24-April-2018 to 3-May-2018', y=1.015)\n",
    "plt.xlabel('Month-Day', labelpad=16)\n",
    "plt.ylabel('Avg Count[rides]', labelpad=16)\n",
    "leg = ax.legend()\n",
    "leg.set_title('Bike Type',prop={'size':14})\n",
    "plt.savefig('image16.png');"
   ]
  },
  {
   "cell_type": "markdown",
   "metadata": {
    "slideshow": {
     "slide_type": "subslide"
    }
   },
   "source": [
    "<img src=\"image16.png\">"
   ]
  },
  {
   "cell_type": "markdown",
   "metadata": {
    "slideshow": {
     "slide_type": "fragment"
    }
   },
   "source": [
    "It seems that there is huge difference in terms of average count of electric bike rides, which is less than 5 times, and normal bike rides, which is more than 5 times.<br>\n",
    "After the news of new launch of electric bike service, maybe there were high demands on riding electric bikes at the time."
   ]
  },
  {
   "cell_type": "markdown",
   "metadata": {
    "slideshow": {
     "slide_type": "slide"
    }
   },
   "source": [
    "## Visualization 4:  Trend of 'bike share for all' members bike rides for different age group\n",
    "'Bike share for all' program is a subscription model for low income bay area residents. Unlike most popular docks for all members gathered around financial distinct and market street, the popular docks for 'Bike share for all' members are sqreaded especially around bart station or caltrain station, even though those are quite further away from market street, such as 24th street bart station. \n",
    "<br>\n",
    "I guess it's because low income people tend to travel further from south bay or east bay and they might take public transportation to work around San Fancisco area."
   ]
  },
  {
   "cell_type": "code",
   "execution_count": null,
   "metadata": {
    "slideshow": {
     "slide_type": "skip"
    }
   },
   "outputs": [],
   "source": [
    "plt.figure(figsize=(10,7))\n",
    "ax = sns.pointplot(x='start_time_year_month_renamed', y='bike_id', hue='member_age_bins', scale=.7, data=bike_share_for_all_trip_age_df)\n",
    "plt.title(\"The monthly trend of 'bike share for all' members' bike rides per age group\", fontsize=20, y=1.015)\n",
    "plt.xlabel('year-month', labelpad=16)\n",
    "plt.ylabel('count [rides]', labelpad=16)\n",
    "leg = ax.legend()\n",
    "leg.set_title('Member age group',prop={'size':12})\n",
    "plt.grid(False)\n",
    "plt.savefig('image14.png');"
   ]
  },
  {
   "cell_type": "markdown",
   "metadata": {
    "slideshow": {
     "slide_type": "subslide"
    }
   },
   "source": [
    "<img src='image14.png'>"
   ]
  },
  {
   "cell_type": "markdown",
   "metadata": {
    "slideshow": {
     "slide_type": "fragment"
    }
   },
   "source": [
    "It seems the 'Bike share for all' program launched around January 2018. There is an increasing trend after that. 10 to 20 years old group might not be qualified for the criteria.<br>\n",
    "There is sharp increase of 40 to 50 years old users' rides after March 2018. However, 20 to 40 user groups' usage seems to be stagnated recently."
   ]
  },
  {
   "cell_type": "markdown",
   "metadata": {
    "slideshow": {
     "slide_type": "slide"
    }
   },
   "source": [
    "## Visualization 5: Which member age group relatively use electric bikes more than other group?"
   ]
  },
  {
   "cell_type": "code",
   "execution_count": null,
   "metadata": {
    "slideshow": {
     "slide_type": "skip"
    }
   },
   "outputs": [],
   "source": [
    "new_color=['navy', 'lightblue', 'lightblue', 'lightblue', 'lightblue', 'lightblue']\n",
    "#my_palette = {\"10-20\":\"navy\", 'others':'lightskyblue'}\n",
    "bike_rides_per_age_merged_df[['member_age_bins', 'perc']].plot(kind='bar',\n",
    "                                                               x='member_age_bins', y='perc', color=new_color, figsize=(8,6), legend=False)\n",
    "plt.title('Percentage of electric bike rides of overall bike rides', fontsize=22, y=1.015)\n",
    "plt.xlabel('Age Group', labelpad=16)\n",
    "plt.ylabel('Percentage [Electric Bike rides]', labelpad=16)\n",
    "plt.xticks(rotation=360)\n",
    "#leg = ax.legend()\n",
    "#leg.set_title('Agegroup',prop={'size':14})\n",
    "plt.grid(False)\n",
    "plt.savefig('image18.png');"
   ]
  },
  {
   "cell_type": "markdown",
   "metadata": {
    "slideshow": {
     "slide_type": "subslide"
    }
   },
   "source": [
    "<img src='image18.png'>"
   ]
  },
  {
   "cell_type": "markdown",
   "metadata": {
    "slideshow": {
     "slide_type": "fragment"
    }
   },
   "source": [
    "10-20 age people (teenagers) have shown the least interest to this service of riding bikes. <br>\n",
    "However, it is interesting that electric bike rides account for 10% of all bike rides. <br>\n",
    "It seems that the younger you are, the more likely you are fond of electric bike rides."
   ]
  },
  {
   "cell_type": "code",
   "execution_count": null,
   "metadata": {},
   "outputs": [],
   "source": []
  }
 ],
 "metadata": {
  "celltoolbar": "Slideshow",
  "kernelspec": {
   "display_name": "Python 3",
   "language": "python",
   "name": "python3"
  },
  "language_info": {
   "codemirror_mode": {
    "name": "ipython",
    "version": 3
   },
   "file_extension": ".py",
   "mimetype": "text/x-python",
   "name": "python",
   "nbconvert_exporter": "python",
   "pygments_lexer": "ipython3",
   "version": "3.6.5"
  }
 },
 "nbformat": 4,
 "nbformat_minor": 2
}
