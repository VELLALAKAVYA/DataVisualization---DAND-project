{
 "cells": [
  {
   "cell_type": "markdown",
   "metadata": {},
   "source": [
    "# Dataset Exploration Title: Bike sharing analysis with Ford GoBike data\n",
    "\n",
    "## by Vallela Kavya\n",
    "\n",
    "## Ford GoBike System Data\n",
    "### Dataset Overview:"
   ]
  },
  {
   "cell_type": "markdown",
   "metadata": {},
   "source": [
    "This data set includes information about **individual rides made in a bike-sharing system covering the greater San Francisco Bay area**.\n",
    "<br>\n",
    "Note that this dataset will require some data wrangling in order to make it tidy for analysis. \n",
    "<br>\n",
    "There are multiple cities covered by the linked system, and multiple data files will need to be joined together if a full year’s coverage is desired.This data set includes information about individual rides made in a bike-sharing system covering the greater San Francisco Bay area. \n",
    "Note that this dataset will require some data wrangling in order to make it tidy for analysis. \n",
    "There are multiple cities covered by the linked system, and multiple data files will need to be joined together if a full year’s coverage is desired.\n",
    "<br>The data contains four parts, including station, status, trip, and weather data. The station data is for bike stations at which users can pickup or return their bikes. The status section is the number of bikes and docks available for a given station and minute. The trip section represents an individual bike trip. And weather represents the weather for a specific day and zip code.\n",
    "<br>The crime data is provided by the San Francisco Police Department, Santa Clara County Police Department, Redwood City Police Department, and Palo Alto Police Department. We used this data to count how many crimes occurred in the same zip code locations as the bike stations. The education and income data is provided by United States Census Bureau, which has a detailed education and income reports.\n",
    "Bike share programs provide an environmentally friendly and healthy alternative to commuting within and exploring a city. However, Ford GoBike currently expends extra energy in order to consistently check on the condition of their bikes.\n",
    "<br>\n",
    "In addition, there was another announcement on April 24th 2018 that Ford GoBike would do a pilot launch of their electric bike service. So, I would like to find who might be especially interested of the news.\n"
   ]
  },
  {
   "cell_type": "markdown",
   "metadata": {},
   "source": [
    "### Data"
   ]
  },
  {
   "cell_type": "markdown",
   "metadata": {},
   "source": [
    "This project used the following dataset, which are available in (Datasource: https://s3.amazonaws.com/fordgobike-data/index.html)\n",
    "<br>\n"
   ]
  },
  {
   "cell_type": "markdown",
   "metadata": {},
   "source": [
    "## Summary of Findings"
   ]
  },
  {
   "cell_type": "markdown",
   "metadata": {},
   "source": [
    "1. Setup Environment and Read data<br>\n",
    "2. Filter data to include reasonable member age range.<br>\n",
    "3. Filter data only to include San Francisco Rides.<br>\n",
    "4. How fast the Ford goBike is growing?<br>\n",
    "5. How does rides trend vary per age, gender, weekday, and hour of a day?<br>\n",
    "6. How does subscribers and customers behave differently?<br>\n",
    "7. Which docks are used more frequently?<br>\n",
    "8. When and where 'bike share for all' members use Ford goBike?<br>\n",
    "9. How is the trend of electric bike rides and which age group favors E-Bike more?<br>\n",
    "10. Top 100 most frequently used paths<br>"
   ]
  },
  {
   "cell_type": "markdown",
   "metadata": {},
   "source": [
    "### Tech Stacks"
   ]
  },
  {
   "cell_type": "markdown",
   "metadata": {},
   "source": [
    "The project is mainly written in Python 3.6. I used pandas and numpy for data analysis, and used seaborn, and matplotlib for data visualization. \n",
    "<br>\n",
    "In addition, Some plots are plotted in R with Ipython, such as Bokeh and gglot2."
   ]
  },
  {
   "cell_type": "raw",
   "metadata": {},
   "source": [
    "%matplotlib inline\n",
    "\n",
    "import pandas as pd\n",
    "import numpy as np\n",
    "import matplotlib.pyplot as plt\n",
    "import matplotlib.ticker as ticker\n",
    "import seaborn as sns\n",
    "import datetime\n",
    "import math\n",
    "import calendar\n",
    "\n",
    "#from bokeh.plotting import figure, output_notebook, show # bokeh plotting library\n",
    "# We'll show the plots in the cells of this notebook\n",
    "#output_notebook()\n",
    "\n",
    "from bokeh.io import output_file, show, output_notebook\n",
    "from bokeh.models import ColumnDataSource, GMapOptions\n",
    "from bokeh.plotting import gmap, figure\n",
    "\n",
    "\n",
    "sns.set(color_codes=True)\n",
    "sns.set(rc={'figure.figsize':(12.5,9.7)})"
   ]
  },
  {
   "cell_type": "markdown",
   "metadata": {},
   "source": [
    "## Key Insights for Presentation"
   ]
  },
  {
   "cell_type": "markdown",
   "metadata": {},
   "source": [
    "### 1. The age distribution of Ford goBike rider"
   ]
  },
  {
   "cell_type": "markdown",
   "metadata": {},
   "source": [
    "<img src=\"image01.png\">"
   ]
  },
  {
   "cell_type": "markdown",
   "metadata": {},
   "source": [
    "This Univariate Exploration boxplot is chosen for presentation as this plot decides the distributon of age group people goes for bike ridings.<br>\n",
    "Compare to exploration , here the plot is more polished;<br>\n",
    "    The background grid lines of boxplot are removed.\n",
    "<br>\n",
    "    The color of the plot is changed to basecolor palatte.\n",
    "<br>\n",
    "    The font size of the title and axes also modified."
   ]
  },
  {
   "cell_type": "markdown",
   "metadata": {},
   "source": [
    "### 2. Which age group favors e-bike more?"
   ]
  },
  {
   "cell_type": "markdown",
   "metadata": {},
   "source": [
    "Suprisingly, 10 to 20 years user group seems to show the most interest in the e-bike, seeing that the percentage of e-bike rides of all the rides by 10 to 20 years old users is around 10%.\n",
    "<br>\n",
    "Also, the younger a rider is, the more likely the rider would be fond of electric bike rides."
   ]
  },
  {
   "cell_type": "markdown",
   "metadata": {},
   "source": [
    "<img src=\"image16.png\">"
   ]
  },
  {
   "cell_type": "markdown",
   "metadata": {},
   "source": [
    "This boxplot describes about the people favour to electric bikes and non electric bikes.\n",
    "<br>\n",
    "The changes made compare to exploration are,<br>\n",
    "The color of the box plots are changed form lime and green to basecolor and lightskyblue for differentiation between electric and non-electric biek riders.<br>\n",
    "The legend title font size and location of legend is also modified.<br>\n",
    "the title font size is reduced.\n"
   ]
  },
  {
   "cell_type": "markdown",
   "metadata": {},
   "source": [
    "## References:\n",
    "<br>\n",
    "1. I got jinja2 exception when i run the exploration ipynb file to covnert it into slides by hiding hide.I got refernece from here about the exception;\n",
    "https://stackoverflow.com/questions/21692387/jinja2-exception-handling\n",
    "<br>\n",
    "<br>\n",
    "2. To study little about bokeh models aI go through this site which explains clearly about bokeh;\n",
    "https://bokeh.pydata.org/en/latest/docs/reference/models/map_plots.html\n",
    "<br>\n",
    "<br>\n",
    "3. To know about matplotlib ticker formattings I studied here;<br>\n",
    "https://matplotlib.org/gallery/ticks_and_spines/tick-formatters.html\n",
    "<br>\n",
    "<br>\n",
    "4. To know more about How to Calculate the Haversine distance, I have go through from these links;<br>\n",
    "https://www.movable-type.co.uk/scripts/latlong.html <br> https://www.vcalc.com/wiki/vCalc/Haversine+-+Distance\n",
    "<br>\n",
    "<br>\n",
    "5. To find out how to download bokeh plots from notebook;<br>\n",
    "https://bokeh.pydata.org/en/latest/docs/user_guide/export.html\n",
    "<br>\n",
    "<br>\n",
    "6. For matplotlib axes;\n",
    "https://matplotlib.org/gallery/subplots_axes_and_figures/axes_demo.html#sphx-glr-gallery-subplots-axes-and-figures-axes-demo-py\n",
    "<br><br>\n",
    "7. https://stackoverflow.com/questions/44931834/pandas-drop-function-error-label-not-contained-in-axis?rq=1\n",
    "<br><br>\n",
    "8. https://stackoverflow.com/questions/36605923/python-set-background-of-a-box-in-a-boxplot\n",
    "<br><br>\n",
    "9. https://www.google.com/search?q=how+to+remove+background+color+in+a+boxplot+using+python&oq=how+to+remove+background+color+in+a+boxplot+using+python&aqs=chrome..69i57.10632j0j4&sourceid=chrome&ie=UTF-8\n",
    "<br><br>\n",
    "10. https://www.google.com/search?q=how+to+set+axis+lines+in+plot+using+python+seaborn&oq=how+to+set+axis+lines+in+plot+using+python+seaborn&aqs=chrome..69i57.10974j0j4&sourceid=chrome&ie=UTF-8"
   ]
  },
  {
   "cell_type": "code",
   "execution_count": null,
   "metadata": {},
   "outputs": [],
   "source": []
  }
 ],
 "metadata": {
  "kernelspec": {
   "display_name": "Python 3",
   "language": "python",
   "name": "python3"
  },
  "language_info": {
   "codemirror_mode": {
    "name": "ipython",
    "version": 3
   },
   "file_extension": ".py",
   "mimetype": "text/x-python",
   "name": "python",
   "nbconvert_exporter": "python",
   "pygments_lexer": "ipython3",
   "version": "3.6.5"
  }
 },
 "nbformat": 4,
 "nbformat_minor": 2
}
